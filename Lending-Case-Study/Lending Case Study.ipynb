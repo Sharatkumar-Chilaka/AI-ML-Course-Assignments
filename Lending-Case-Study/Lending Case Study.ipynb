{
 "cells": [
  {
   "cell_type": "markdown",
   "metadata": {},
   "source": [
    "# Exploratory Data Analysis on lending club case study"
   ]
  },
  {
   "cell_type": "code",
   "execution_count": null,
   "metadata": {},
   "outputs": [],
   "source": [
    "import numpy as np\n",
    "import pandas as pd\n",
    "import matplotlib.pyplot as plt\n",
    "import seaborn as sns"
   ]
  },
  {
   "cell_type": "markdown",
   "metadata": {},
   "source": [
    "### loading loan dataset\n",
    "Load the loan dataset and explore its basic properties"
   ]
  },
  {
   "cell_type": "code",
   "execution_count": null,
   "metadata": {},
   "outputs": [],
   "source": [
    "loan_df = pd.read_csv(\"loan.csv\", low_memory=False)\n",
    "# checking the shape(dimensions) of dataset\n",
    "loan_df.shape"
   ]
  },
  {
   "cell_type": "code",
   "execution_count": null,
   "metadata": {},
   "outputs": [],
   "source": [
    "# since dataset has lots of columns\n",
    "pd.set_option('display.max_columns', None)\n",
    "loan_df.head()"
   ]
  },
  {
   "cell_type": "code",
   "execution_count": null,
   "metadata": {
    "scrolled": true
   },
   "outputs": [],
   "source": [
    "loan_df.info()"
   ]
  },
  {
   "cell_type": "code",
   "execution_count": null,
   "metadata": {},
   "outputs": [],
   "source": [
    "loan_df.emp_length.unique()"
   ]
  },
  {
   "cell_type": "markdown",
   "metadata": {},
   "source": [
    "## Understanding the Dataset\n",
    "Need to understand the loan dataset column variables and pick the required ones"
   ]
  },
  {
   "cell_type": "code",
   "execution_count": null,
   "metadata": {},
   "outputs": [],
   "source": [
    "# Now since the DF has too many columns splitting into multiple small DF's of 25 columns each\n",
    "df1 = loan_df.iloc[:, :25]\n",
    "df2 = loan_df.iloc[:, 25:50]\n",
    "df3 = loan_df.iloc[:, 50:75]\n",
    "df4 = loan_df.iloc[:, 75:100]\n",
    "df5 = loan_df.iloc[:, 100:111]"
   ]
  },
  {
   "cell_type": "code",
   "execution_count": null,
   "metadata": {},
   "outputs": [],
   "source": [
    "df1.info()"
   ]
  },
  {
   "cell_type": "markdown",
   "metadata": {},
   "source": [
    "**The following variables can be used for univariate, segmented univariate and bivariate analysis.**\n",
    "1. <font color = blue>loan_amnt</font> - The amount of loan requested by applicant - int64\n",
    "2. <font color = blue>funded_amnt</font> - The amount of loan appoved for applicant - int64\n",
    "3. <font color = blue>funded_amnt_inv</font> - The amount of loan sanctioned for applicant - float64\n",
    "4. <font color = blue>term</font> - The term of loan - string object\n",
    "5. <font color = blue>int_rate</font> - The interest charged for the loan - string object (needs to be converted to numerical variable float64)\n",
    "6. <font color = blue>installment</font> - The installment amount decided for the loan - float64\n",
    "7. <font color = blue>grade</font> - LC assigned id for loan - string object\n",
    "8. <font color = blue>sub_grade</font> - LC assigned sub grade id for loan - string object\n",
    "9. <font color = blue>emp_length</font> - emploment status of applicant - string object\n",
    "10. <font color = blue>home_ownership</font> - home ownership status of applicant - string object\n",
    "11. <font color = blue>annual_inc</font> - annual income of applicant - float64\n",
    "12. <font color = blue>issue_d</font> - loan issued date - date object (additional information can be derived from this like year information)\n",
    "13. <font color = blue>loan_status</font> - applicant loan status - string object\n",
    "14. <font color = blue>purpose</font> - pupose of loan - object\n",
    "15. <font color = blue>addr_state</font> - address information of user - string object\n",
    "16. <font color = blue>dti</font> - Debt to Income ratio of applicant\n",
    "\n",
    "The following variables can be ignored since they may not offer much insight for the given problem statement.\n",
    "1. id\n",
    "2. member_id\n",
    "3. emp_title\n",
    "4. verification_status\n",
    "5. pymnt_plan\n",
    "6. url\n",
    "7. desc\n",
    "8. title\n",
    "9. zip_code\n",
    "\n",
    "<font color = red>Note:</font> For now wont be selecting any column variables from df2, df3, df4 and df5, as performing EDA on the above 16 variables can give us lots of sights as well. Incase if required to calculate Business derived metrics like CIBIL/CREDIT SCORE of an applicant, we can pick few later."
   ]
  },
  {
   "cell_type": "code",
   "execution_count": null,
   "metadata": {
    "scrolled": true
   },
   "outputs": [],
   "source": [
    "df2.info()\n",
    "df3.info()\n",
    "df4.info()\n",
    "df5.info()"
   ]
  },
  {
   "cell_type": "markdown",
   "metadata": {},
   "source": [
    "## Cleaning Manipulating Master Dataset\n",
    "1. First step is to create master data set from above identified columns in loan DF\n",
    "2. Cleaning the dataset\n",
    "    1. Changing cloumn names\n",
    "    2. Removing missing data rows\n",
    "    3. Converting column data types\n",
    "    4. Deriving new column data from existing columns"
   ]
  },
  {
   "cell_type": "markdown",
   "metadata": {},
   "source": [
    "### Create Master dataset"
   ]
  },
  {
   "cell_type": "code",
   "execution_count": null,
   "metadata": {},
   "outputs": [],
   "source": [
    "#  Creating the master dataset\n",
    "loan_master_df = loan_df[['loan_amnt','funded_amnt','funded_amnt_inv','term','int_rate','installment',\n",
    "                          'grade','sub_grade','loan_status','annual_inc','purpose',\n",
    "                          'home_ownership','dti','emp_length','issue_d','addr_state']].copy()\n",
    "loan_master_df.head()"
   ]
  },
  {
   "cell_type": "markdown",
   "metadata": {},
   "source": [
    "### Cleaning the dataset\n",
    "#### Step 1: Changing cloumn names"
   ]
  },
  {
   "cell_type": "code",
   "execution_count": null,
   "metadata": {
    "scrolled": true
   },
   "outputs": [],
   "source": [
    "# Renaming some of the columns\n",
    "loan_master_df = loan_master_df.rename(columns={\"loan_amnt\": \"applied_amount\", \n",
    "                                                \"funded_amnt\": \"approved_amount\", \n",
    "                                                \"funded_amnt_inv\": \"sanctioned_amount\",\n",
    "                                                \"int_rate\": \"interest_rate\",\n",
    "                                                \"annual_inc\": \"annual_income\",\n",
    "                                                \"grade\": \"loan_grade\",\n",
    "                                                \"sub_grade\": \"loan_sub_grade\",\n",
    "                                                \"emp_length\":\"employment_length\",\n",
    "                                                \"issue_d\":\"issue_date\",\n",
    "                                                \"addr_state\":\"address_state\"\n",
    "                                               })\n",
    "loan_master_df.columns"
   ]
  },
  {
   "cell_type": "code",
   "execution_count": null,
   "metadata": {},
   "outputs": [],
   "source": [
    "# Checking the shape of master DF\n",
    "loan_master_df.shape"
   ]
  },
  {
   "cell_type": "code",
   "execution_count": null,
   "metadata": {},
   "outputs": [],
   "source": [
    "# printing the percentage of missing values in each column\n",
    "print(round(100*(loan_master_df.isnull().sum()/len(loan_master_df.index)), 2))"
   ]
  },
  {
   "cell_type": "markdown",
   "metadata": {},
   "source": [
    "#### Step 2: Removing missing data rows\n",
    "\n",
    "The column **\"employment_length\"** is having **2.71%** missing values.\n",
    "Now since the percentage of missing values is not significant amount, we decide to delete the rows having missing values in **employment_length** column."
   ]
  },
  {
   "cell_type": "code",
   "execution_count": null,
   "metadata": {},
   "outputs": [],
   "source": [
    "loan_master_df.isna\n",
    "loan_master_df = loan_master_df.dropna(how='any')"
   ]
  },
  {
   "cell_type": "code",
   "execution_count": null,
   "metadata": {},
   "outputs": [],
   "source": [
    "print(round(100*(loan_master_df.isnull().sum()/len(loan_master_df.index)), 2))\n",
    "loan_master_df.info()\n",
    "loan_master_df.shape"
   ]
  },
  {
   "cell_type": "markdown",
   "metadata": {},
   "source": [
    "We lost **39717 - 38642 = 1075 rows**"
   ]
  },
  {
   "cell_type": "markdown",
   "metadata": {},
   "source": [
    "#### Step 3: Converting column data types\n",
    "\n",
    "We need to convert datatype of column **\"interest_rate\"** to numeric type"
   ]
  },
  {
   "cell_type": "code",
   "execution_count": null,
   "metadata": {},
   "outputs": [],
   "source": [
    "loan_master_df.interest_rate = loan_master_df.interest_rate.apply(lambda x:x.strip('%'))\n",
    "loan_master_df[\"interest_rate\"] = pd.to_numeric(loan_master_df[\"interest_rate\"])"
   ]
  },
  {
   "cell_type": "code",
   "execution_count": null,
   "metadata": {},
   "outputs": [],
   "source": [
    "loan_master_df.interest_rate.describe()"
   ]
  },
  {
   "cell_type": "markdown",
   "metadata": {},
   "source": [
    "We need to convert the values of **employment_lenth** to numeric values"
   ]
  },
  {
   "cell_type": "code",
   "execution_count": null,
   "metadata": {},
   "outputs": [],
   "source": [
    "loan_master_df['employment_length'] = loan_master_df['employment_length'].str.replace('<','').str.replace(' ','').str.replace('year','').str.replace('s','').str.replace('+','').astype(float)"
   ]
  },
  {
   "cell_type": "markdown",
   "metadata": {},
   "source": [
    "Removing leading empty space from term column values"
   ]
  },
  {
   "cell_type": "code",
   "execution_count": null,
   "metadata": {},
   "outputs": [],
   "source": [
    "loan_master_df['term'] = loan_master_df['term'].str.strip()"
   ]
  },
  {
   "cell_type": "code",
   "execution_count": null,
   "metadata": {},
   "outputs": [],
   "source": [
    "# loan_master_df['annual_income'] = loan_master_df['annual_income'].astype(int64)\n",
    "# loan_master_df.info()\n",
    "# loan_master_df.annual_income = loan_master_df.astype({'annual_income': 'int64'}).dtypes\n",
    "loan_master_df.annual_income = loan_master_df.annual_income.astype('int64')\n",
    "loan_master_df.sanctioned_amount = loan_master_df.sanctioned_amount.astype('int64')"
   ]
  },
  {
   "cell_type": "markdown",
   "metadata": {},
   "source": [
    "#### Step 4: Deriving new column data from existing columns\n",
    "\n",
    "We can derive a new column **\"loan_issued_year\"** information from **\"issue_date\"** column"
   ]
  },
  {
   "cell_type": "code",
   "execution_count": null,
   "metadata": {},
   "outputs": [],
   "source": [
    "# loan_master_df['loan_issued_year'] = pd.to_datetime(loan_master_df['issue_date']).dt.year\n",
    "loan_master_df['loan_issued_year'] =  pd.to_datetime(loan_master_df['issue_date'],format='%b-%y').dt.year\n",
    "print(loan_master_df.info())"
   ]
  },
  {
   "cell_type": "code",
   "execution_count": null,
   "metadata": {},
   "outputs": [],
   "source": [
    "loan_master_df.loan_sub_grade.unique()"
   ]
  },
  {
   "cell_type": "code",
   "execution_count": null,
   "metadata": {},
   "outputs": [],
   "source": [
    "# Removing the Initial 'Grade' Letter from 'loan_sub_grade'\n",
    "loan_master_df.loan_sub_grade = loan_master_df.loan_sub_grade.str[1:]"
   ]
  },
  {
   "cell_type": "code",
   "execution_count": null,
   "metadata": {},
   "outputs": [],
   "source": [
    "loan_master_df"
   ]
  },
  {
   "cell_type": "markdown",
   "metadata": {},
   "source": [
    "## Analysing the data from masterdata\n",
    "\n",
    "1. Creating sub data sets as per business requirement for analysis\n",
    "    1. Creating a dataframe for loan defaulters(Bad Loans)\n",
    "    2. Creating a dataframe for loan non-defaulters(Good Loans)\n",
    "    3. Plotting Defaulters vs Non-Defaulters\n",
    "    \n",
    "2. Univariate Analysis\n",
    "    1. Determing the variable types \n",
    "    2. Analyzing individual variables\n",
    "    3. Creating Distribution Plots\n",
    "    4. Summary Metrics\n",
    "    \n",
    "3. Segmented Univariate Analysis\n",
    "    1. Analysing groups\n",
    "    2. Visualizing Groups via Plotting \n",
    "    3. Summary Metric\n",
    "    \n",
    "4. Bivariate Analysis\n",
    "    1. Analysis\n",
    "    2. Plots\n",
    "    3. Summary\n",
    "    "
   ]
  },
  {
   "cell_type": "markdown",
   "metadata": {},
   "source": [
    "### Creating sub data sets for Good Loans and Bad Loans\n",
    "\n",
    "Three sub dataframes can be created by grouping rows based on the values present in **\"loan_status\"** column"
   ]
  },
  {
   "cell_type": "code",
   "execution_count": null,
   "metadata": {},
   "outputs": [],
   "source": [
    "loan_master_df.loan_status.unique()"
   ]
  },
  {
   "cell_type": "markdown",
   "metadata": {},
   "source": [
    "There are 3 unique values in **loan_status** column : **\"Fully Paid\", \"Charged Off\", \"Current\"**\n",
    "\n",
    "1. The rows with **Fully Paid** value indicates loans that turned out good for the company, i.e company made profit\n",
    "2. The rows with **Charged Off** value indicates loans that turned out bad for the company, i.e company may have made loss\n",
    "3. The rows with **Current** value indicates loans that are still ongoing, they can turn anything Good or Bad, hence we can ignore those rows"
   ]
  },
  {
   "cell_type": "markdown",
   "metadata": {},
   "source": [
    "#### Creating Defaulter dataframe"
   ]
  },
  {
   "cell_type": "code",
   "execution_count": null,
   "metadata": {},
   "outputs": [],
   "source": [
    "bad_loans_df = loan_master_df.loc[loan_master_df.loan_status == 'Charged Off'].copy()\n",
    "bad_loans_df = bad_loans_df.drop(columns=['loan_status','issue_date'])\n",
    "bad_loans_df.shape"
   ]
  },
  {
   "cell_type": "markdown",
   "metadata": {},
   "source": [
    "#### Creating Non defaulter dataframe"
   ]
  },
  {
   "cell_type": "code",
   "execution_count": null,
   "metadata": {},
   "outputs": [],
   "source": [
    "good_loans_df = loan_master_df.loc[loan_master_df.loan_status == 'Fully Paid'].copy()\n",
    "good_loans_df = good_loans_df.drop(columns=['loan_status','issue_date'])\n",
    "good_loans_df.shape"
   ]
  },
  {
   "cell_type": "code",
   "execution_count": null,
   "metadata": {},
   "outputs": [],
   "source": [
    "loan_status_df = pd.DataFrame(loan_master_df.groupby('loan_status').sanctioned_amount.count())\n",
    "loan_status_df.head()\n",
    "\n",
    "good_bad_loans = loan_master_df.loc[(loan_master_df.loan_status == 'Charged Off') | (loan_master_df.loan_status == 'Fully Paid')]\n",
    "good_bad_loans_status = pd.DataFrame(good_bad_loans.groupby('loan_status').sanctioned_amount.count())"
   ]
  },
  {
   "cell_type": "code",
   "execution_count": null,
   "metadata": {
    "scrolled": true
   },
   "outputs": [],
   "source": [
    "plot = loan_status_df.plot.pie(subplots=True, figsize=(6, 6),autopct='%1.2f%%')"
   ]
  },
  {
   "cell_type": "markdown",
   "metadata": {},
   "source": [
    "Distribution of all loans based on **loan_status** values"
   ]
  },
  {
   "cell_type": "code",
   "execution_count": null,
   "metadata": {
    "scrolled": true
   },
   "outputs": [],
   "source": [
    "plot = good_bad_loans_status.plot.pie(subplots=True, figsize=(6, 6),autopct='%1.2f%%')"
   ]
  },
  {
   "cell_type": "markdown",
   "metadata": {},
   "source": [
    "Distribution of good and bad loans"
   ]
  },
  {
   "cell_type": "markdown",
   "metadata": {},
   "source": [
    "### Univariate Analysis\n",
    "\n",
    "#### Step 1: Determining the variable types"
   ]
  },
  {
   "cell_type": "code",
   "execution_count": null,
   "metadata": {
    "scrolled": true
   },
   "outputs": [],
   "source": [
    "bad_loans_df.info()"
   ]
  },
  {
   "cell_type": "code",
   "execution_count": null,
   "metadata": {},
   "outputs": [],
   "source": [
    "bad_loans_df.term.unique()"
   ]
  },
  {
   "cell_type": "code",
   "execution_count": null,
   "metadata": {},
   "outputs": [],
   "source": [
    "bad_loans_df.loan_grade.unique()"
   ]
  },
  {
   "cell_type": "code",
   "execution_count": null,
   "metadata": {},
   "outputs": [],
   "source": [
    "bad_loans_df.loan_sub_grade.unique()"
   ]
  },
  {
   "cell_type": "code",
   "execution_count": null,
   "metadata": {},
   "outputs": [],
   "source": [
    "bad_loans_df.purpose.unique()"
   ]
  },
  {
   "cell_type": "code",
   "execution_count": null,
   "metadata": {},
   "outputs": [],
   "source": [
    "bad_loans_df.home_ownership.unique()"
   ]
  },
  {
   "cell_type": "code",
   "execution_count": null,
   "metadata": {},
   "outputs": [],
   "source": [
    "bad_loans_df.address_state.unique()"
   ]
  },
  {
   "cell_type": "code",
   "execution_count": null,
   "metadata": {},
   "outputs": [],
   "source": [
    "bad_loans_df.loan_issued_year.unique()"
   ]
  },
  {
   "cell_type": "code",
   "execution_count": null,
   "metadata": {},
   "outputs": [],
   "source": [
    "bad_loans_df.employment_length.unique()"
   ]
  },
  {
   "cell_type": "markdown",
   "metadata": {},
   "source": [
    "# We can divide variables across 2 broad categories\n",
    "\n",
    "**1. Numerical**\n",
    "    1. applied_amount\n",
    "    2. approved_amount\n",
    "    3. sanctioned_amount\n",
    "    4. interest_rate\n",
    "    5. installment\n",
    "    6. annual_income\n",
    "    7. dti\n",
    "    8. employment_length - [ 1.,  4.,  3., 10.,  9.,  2.,  8.,  7.,  5.,  6.]\n",
    "    \n",
    "**2. Categorical**\n",
    "    1. term (unordered) - ['60 months', '36 months']\n",
    "    2. loan_grade (ordered) - ['C', 'F', 'B', 'D', 'A', 'E', 'G']\n",
    "    3. loan_sub_grade (ordered) - ['1', '2', '3', '4', '5']\n",
    "    4. purpose(unordered) - ['car', 'small_business', 'other', 'debt_consolidation',\n",
    "       'major_purchase', 'credit_card', 'home_improvement', 'moving',\n",
    "       'vacation', 'house', 'medical', 'wedding', 'renewable_energy',\n",
    "       'educational']\n",
    "    5. home_ownership (unordered) - ['RENT', 'OWN', 'MORTGAGE', 'OTHER']\n",
    "    6. address_state (unordered) - ['GA', 'CA', 'TX', 'VA', 'FL', 'NY', 'PA', 'OH', 'IL', 'WA', 'MN',\n",
    "       'AK', 'OR', 'AZ', 'WI', 'NC', 'CO', 'MO', 'WV', 'NV', 'SC', 'RI',\n",
    "       'MA', 'KY', 'HI', 'NJ', 'MT', 'MI', 'SD', 'DC', 'OK', 'VT', 'NM',\n",
    "       'MD', 'AL', 'KS', 'UT', 'LA', 'AR', 'CT', 'NH', 'DE', 'WY', 'MS',\n",
    "       'TN', 'ID', 'NE']\n",
    "    7. loan_issued_year (ordered) - [2011, 2010, 2009, 2008, 2007]"
   ]
  },
  {
   "cell_type": "markdown",
   "metadata": {},
   "source": [
    "#### Step 2 & 3: Analyzing individual variables and Creating Distribution Plots"
   ]
  },
  {
   "cell_type": "markdown",
   "metadata": {},
   "source": [
    "#### Analysing and Plotting BAD Loans"
   ]
  },
  {
   "cell_type": "code",
   "execution_count": null,
   "metadata": {},
   "outputs": [],
   "source": [
    "plt.figure(figsize=(20,5))\n",
    "plt.subplot(1, 3, 1)\n",
    "plt.title('applied_amount')\n",
    "sns.distplot(bad_loans_df['applied_amount'])\n",
    "\n",
    "plt.subplot(1, 3, 2)\n",
    "plt.title('approved_amount')\n",
    "sns.distplot(bad_loans_df['approved_amount'])\n",
    "\n",
    "plt.subplot(1, 3, 3)\n",
    "plt.title('sanctioned_amount')\n",
    "sns.distplot(bad_loans_df['sanctioned_amount'])\n",
    "plt.show()\n",
    "\n",
    "# boxplots\n",
    "plt.figure(figsize=(20,5))\n",
    "plt.subplot(1, 3, 1)\n",
    "plt.title('applied_amount')\n",
    "sns.boxplot(bad_loans_df['applied_amount'])\n",
    "\n",
    "plt.subplot(1, 3, 2)\n",
    "plt.title('approved_amount')\n",
    "sns.boxplot(bad_loans_df['approved_amount'])\n",
    "\n",
    "plt.subplot(1, 3, 3)\n",
    "plt.title('sanctioned_amount')\n",
    "sns.boxplot(bad_loans_df['sanctioned_amount'])\n",
    "plt.show()"
   ]
  },
  {
   "cell_type": "code",
   "execution_count": null,
   "metadata": {},
   "outputs": [],
   "source": [
    "print(bad_loans_df.applied_amount.describe(percentiles=[.25, .5, .75,.100]))\n",
    "print(bad_loans_df.approved_amount.describe(percentiles=[.25, .5, .75,.100]))\n",
    "print(bad_loans_df.sanctioned_amount.describe(percentiles=[.25, .5, .75,.100]))"
   ]
  },
  {
   "cell_type": "code",
   "execution_count": null,
   "metadata": {},
   "outputs": [],
   "source": [
    "plt.figure(figsize=(20,5))\n",
    "plt.subplot(1, 3, 1)\n",
    "plt.title('interest_rate')\n",
    "sns.distplot(bad_loans_df['interest_rate'])\n",
    "\n",
    "plt.subplot(1, 3, 2)\n",
    "plt.title('installment')\n",
    "sns.distplot(bad_loans_df['installment'])\n",
    "\n",
    "plt.subplot(1, 3, 3)\n",
    "plt.title('dti')\n",
    "sns.distplot(bad_loans_df['dti'])\n",
    "plt.show()\n",
    "\n",
    "# boxplots\n",
    "plt.figure(figsize=(20,5))\n",
    "plt.subplot(1, 3, 1)\n",
    "plt.title('interest_rate')\n",
    "sns.boxplot(bad_loans_df['interest_rate'])\n",
    "\n",
    "plt.subplot(1, 3, 2)\n",
    "plt.title('installment')\n",
    "sns.boxplot(bad_loans_df['installment'])\n",
    "\n",
    "plt.subplot(1, 3, 3)\n",
    "plt.title('dti')\n",
    "sns.boxplot(bad_loans_df['dti'])\n",
    "plt.show()"
   ]
  },
  {
   "cell_type": "code",
   "execution_count": null,
   "metadata": {},
   "outputs": [],
   "source": [
    "print(bad_loans_df.interest_rate.describe(percentiles=[.25, .5, .75,.100]))\n",
    "print(bad_loans_df.installment.describe(percentiles=[.25, .5, .75,.100]))\n",
    "print(bad_loans_df.dti.describe(percentiles=[.25, .5, .75,.100]))"
   ]
  },
  {
   "cell_type": "code",
   "execution_count": null,
   "metadata": {},
   "outputs": [],
   "source": [
    "plt.figure(figsize=(20,5))\n",
    "plt.subplot(1, 2, 1)\n",
    "plt.title('annual_income')\n",
    "sns.distplot(bad_loans_df['annual_income'])\n",
    "\n",
    "plt.subplot(1, 2, 2)\n",
    "plt.title('employment_length')\n",
    "sns.distplot(bad_loans_df['employment_length'])\n",
    "plt.show()\n",
    "\n",
    "# boxplots\n",
    "plt.figure(figsize=(20,5))\n",
    "plt.subplot(1, 2, 1)\n",
    "plt.title('annual_income')\n",
    "sns.boxplot(bad_loans_df['annual_income'])\n",
    "\n",
    "plt.subplot(1, 2, 2)\n",
    "plt.title('employment_length')\n",
    "sns.boxplot(bad_loans_df['employment_length'])\n",
    "plt.show()"
   ]
  },
  {
   "cell_type": "code",
   "execution_count": null,
   "metadata": {},
   "outputs": [],
   "source": [
    "print(bad_loans_df.annual_income.describe(percentiles=[.25, .5, .75,.100]))\n",
    "print(bad_loans_df.employment_length.describe(percentiles=[.25, .5, .75,.100]))"
   ]
  },
  {
   "cell_type": "markdown",
   "metadata": {},
   "source": [
    "#### Analysing and Plotting GOOD Loans"
   ]
  },
  {
   "cell_type": "code",
   "execution_count": null,
   "metadata": {},
   "outputs": [],
   "source": [
    "plt.figure(figsize=(20,5))\n",
    "plt.subplot(1, 3, 1)\n",
    "plt.title('applied_amount')\n",
    "sns.distplot(good_loans_df['applied_amount'])\n",
    "\n",
    "plt.subplot(1, 3, 2)\n",
    "plt.title('approved_amount')\n",
    "sns.distplot(good_loans_df['approved_amount'])\n",
    "\n",
    "plt.subplot(1, 3, 3)\n",
    "plt.title('sanctioned_amount')\n",
    "sns.distplot(good_loans_df['sanctioned_amount'])\n",
    "plt.show()\n",
    "\n",
    "# boxplots\n",
    "plt.figure(figsize=(20,5))\n",
    "plt.subplot(1, 3, 1)\n",
    "plt.title('applied_amount')\n",
    "sns.boxplot(good_loans_df['applied_amount'])\n",
    "\n",
    "plt.subplot(1, 3, 2)\n",
    "plt.title('approved_amount')\n",
    "sns.boxplot(good_loans_df['approved_amount'])\n",
    "\n",
    "plt.subplot(1, 3, 3)\n",
    "plt.title('sanctioned_amount')\n",
    "sns.boxplot(good_loans_df['sanctioned_amount'])\n",
    "plt.show()"
   ]
  },
  {
   "cell_type": "code",
   "execution_count": null,
   "metadata": {},
   "outputs": [],
   "source": [
    "print(good_loans_df.applied_amount.describe(percentiles=[.25, .5, .75,.100]))\n",
    "print(good_loans_df.approved_amount.describe(percentiles=[.25, .5, .75,.100]))\n",
    "print(good_loans_df.sanctioned_amount.describe(percentiles=[.25, .5, .75,.100]))"
   ]
  },
  {
   "cell_type": "code",
   "execution_count": null,
   "metadata": {},
   "outputs": [],
   "source": [
    "plt.figure(figsize=(20,5))\n",
    "plt.subplot(1, 3, 1)\n",
    "plt.title('interest_rate')\n",
    "sns.distplot(good_loans_df['interest_rate'])\n",
    "\n",
    "plt.subplot(1, 3, 2)\n",
    "plt.title('installment')\n",
    "sns.distplot(good_loans_df['installment'])\n",
    "\n",
    "plt.subplot(1, 3, 3)\n",
    "plt.title('dti')\n",
    "sns.distplot(good_loans_df['dti'])\n",
    "plt.show()\n",
    "\n",
    "# boxplots\n",
    "plt.figure(figsize=(20,5))\n",
    "plt.subplot(1, 3, 1)\n",
    "plt.title('interest_rate')\n",
    "sns.boxplot(good_loans_df['interest_rate'])\n",
    "\n",
    "plt.subplot(1, 3, 2)\n",
    "plt.title('installment')\n",
    "sns.boxplot(good_loans_df['installment'])\n",
    "\n",
    "plt.subplot(1, 3, 3)\n",
    "plt.title('dti')\n",
    "sns.boxplot(good_loans_df['dti'])\n",
    "plt.show()"
   ]
  },
  {
   "cell_type": "code",
   "execution_count": null,
   "metadata": {},
   "outputs": [],
   "source": [
    "print(good_loans_df.interest_rate.describe(percentiles=[.25, .5, .75,.100]))\n",
    "print(good_loans_df.installment.describe(percentiles=[.25, .5, .75,.100]))\n",
    "print(good_loans_df.dti.describe(percentiles=[.25, .5, .75,.100]))"
   ]
  },
  {
   "cell_type": "code",
   "execution_count": null,
   "metadata": {},
   "outputs": [],
   "source": [
    "plt.figure(figsize=(20,5))\n",
    "plt.subplot(1, 2, 1)\n",
    "plt.title('annual_income')\n",
    "sns.distplot(good_loans_df['annual_income'])\n",
    "\n",
    "plt.subplot(1, 2, 2)\n",
    "plt.title('employment_length')\n",
    "sns.distplot(good_loans_df['employment_length'])\n",
    "plt.show()\n",
    "\n",
    "# boxplots\n",
    "plt.figure(figsize=(20,5))\n",
    "plt.subplot(1, 2, 1)\n",
    "plt.title('annual_income')\n",
    "sns.boxplot(good_loans_df['annual_income'])\n",
    "\n",
    "plt.subplot(1, 2, 2)\n",
    "plt.title('employment_length')\n",
    "sns.boxplot(good_loans_df['employment_length'])\n",
    "plt.show()"
   ]
  },
  {
   "cell_type": "code",
   "execution_count": null,
   "metadata": {},
   "outputs": [],
   "source": [
    "print(good_loans_df.annual_income.describe(percentiles=[.25, .5, .75,.100]))\n",
    "print(good_loans_df.employment_length.describe(percentiles=[.25, .5, .75,.100]))"
   ]
  },
  {
   "cell_type": "markdown",
   "metadata": {},
   "source": [
    "#### Step 4: Summary metrics for GOOD loans and BAD loans\n",
    "\n",
    "**Bad Loan Metrics**\n",
    "\n",
    "1. median applied_amount is **10000**\n",
    "2. median approved_amount is **10000**\n",
    "3. median sanctioned_amount is **9575**\n",
    "4. mean interest_rate is **13.88**\n",
    "5. median installment is **297.53**\n",
    "6. mean annual_income is **0.054**\n",
    "7. median dti is **13.97**\n",
    "8. median employment_length is **5.19**\n",
    "\n",
    "\n",
    "**Good Loan Metrics**\n",
    "\n",
    "1. median applied_amount is **9600**\n",
    "2. median approved_amount is **9450**\n",
    "3. median sanctioned_amount is **8741**\n",
    "4. mean interest_rate is **11.64**\n",
    "5. median installment is **277.7**\n",
    "6. mean annual_income is **0.07 Million**\n",
    "7. median dti is **13.21**\n",
    "8. median employment_length is **4**"
   ]
  },
  {
   "cell_type": "markdown",
   "metadata": {},
   "source": [
    "### Segmented Univariate Analysis\n",
    "\n",
    "#### Plotting Year wise mean sanctioned amount for bad/good loans"
   ]
  },
  {
   "cell_type": "code",
   "execution_count": null,
   "metadata": {},
   "outputs": [],
   "source": [
    "plt.figure(figsize=(20,5))\n",
    "\n",
    "plt.subplot(1, 2, 1)\n",
    "plt.title('Year wise mean sanctioned amount for bad loans')\n",
    "sns.barplot(x='loan_issued_year', y='sanctioned_amount', data=bad_loans_df, estimator=np.mean)\n",
    "\n",
    "plt.subplot(1, 2, 2)\n",
    "plt.title('Year wise mean sanctioned amount for good loans')\n",
    "sns.barplot(x='loan_issued_year', y='sanctioned_amount', data=good_loans_df, estimator=np.mean)\n",
    "\n",
    "plt.show()"
   ]
  },
  {
   "cell_type": "markdown",
   "metadata": {},
   "source": [
    "#### Plotting Employment length wise mean sanctioned amount for bad/good loans"
   ]
  },
  {
   "cell_type": "code",
   "execution_count": null,
   "metadata": {},
   "outputs": [],
   "source": [
    "plt.figure(figsize=(20,5))\n",
    "\n",
    "plt.subplot(1, 2, 1)\n",
    "plt.title('Employment length wise mean sanctioned amount for bad loans')\n",
    "sns.barplot(x='employment_length', y='sanctioned_amount', data=bad_loans_df, estimator=np.mean)\n",
    "\n",
    "plt.subplot(1, 2, 2)\n",
    "plt.title('Employment length wise mean sanctioned amount for good loans')\n",
    "sns.barplot(x='employment_length', y='sanctioned_amount', data=good_loans_df, estimator=np.mean)\n",
    "\n",
    "plt.show()"
   ]
  },
  {
   "cell_type": "markdown",
   "metadata": {},
   "source": [
    "#### Plotting Term wise mean sanctioned amount for bad/good loans"
   ]
  },
  {
   "cell_type": "code",
   "execution_count": null,
   "metadata": {},
   "outputs": [],
   "source": [
    "plt.figure(figsize=(20,5))\n",
    "\n",
    "plt.subplot(1, 2, 1)\n",
    "plt.title('Term wise mean sanctioned amount for bad loans')\n",
    "sns.barplot(x='term', y='sanctioned_amount', data=bad_loans_df, estimator=np.mean)\n",
    "\n",
    "plt.subplot(1, 2, 2)\n",
    "plt.title('Term wise mean sanctioned amount for good loans')\n",
    "sns.barplot(x='term', y='sanctioned_amount', data=good_loans_df, estimator=np.mean)\n",
    "\n",
    "plt.show()"
   ]
  },
  {
   "cell_type": "markdown",
   "metadata": {},
   "source": [
    "#### Plotting Home Ownership wise mean sanctioned amount for bad/good loans"
   ]
  },
  {
   "cell_type": "code",
   "execution_count": null,
   "metadata": {},
   "outputs": [],
   "source": [
    "plt.figure(figsize=(20,5))\n",
    "\n",
    "plt.subplot(121)\n",
    "plt.title('Home Ownership wise mean sanctioned amount for bad loans')\n",
    "sns.barplot(x='home_ownership', y='sanctioned_amount', data=bad_loans_df, estimator=np.mean)\n",
    "\n",
    "plt.subplot(122)\n",
    "plt.title('Home Ownership wise mean sanctioned amount for good loans')\n",
    "sns.barplot(x='home_ownership', y='sanctioned_amount', data=good_loans_df, estimator=np.mean)\n",
    "\n",
    "plt.show()"
   ]
  },
  {
   "cell_type": "markdown",
   "metadata": {},
   "source": [
    "#### Plotting Grade wise mean sanctioned amount for bad/good loans"
   ]
  },
  {
   "cell_type": "code",
   "execution_count": null,
   "metadata": {},
   "outputs": [],
   "source": [
    "plt.figure(figsize=(20,5))\n",
    "\n",
    "plt.subplot(121)\n",
    "plt.title('Loan grade wise mean sanctioned amount for bad loans')\n",
    "sns.barplot(x='loan_grade', y='sanctioned_amount', data=bad_loans_df, estimator=np.mean)\n",
    "\n",
    "plt.subplot(122)\n",
    "plt.title('Loan grade wise mean sanctioned amount for good loans')\n",
    "sns.barplot(x='loan_grade', y='sanctioned_amount', data=good_loans_df, estimator=np.mean)"
   ]
  },
  {
   "cell_type": "markdown",
   "metadata": {},
   "source": [
    "#### Plotting Purpose wise mean sanctioned amount for bad/good loans"
   ]
  },
  {
   "cell_type": "code",
   "execution_count": null,
   "metadata": {},
   "outputs": [],
   "source": [
    "plt.figure(figsize=(40,10))\n",
    "\n",
    "plt.subplot(221)\n",
    "plt.title('Loan Purpose wise mean sanctioned amount for bad loans')\n",
    "sns.barplot(x='purpose', y='sanctioned_amount', data=bad_loans_df, estimator=np.mean)\n",
    "\n",
    "plt.subplot(223)\n",
    "plt.title('Loan Purpose wise mean sanctioned amount for good loans')\n",
    "sns.barplot(x='purpose', y='sanctioned_amount', data=good_loans_df, estimator=np.mean)"
   ]
  },
  {
   "cell_type": "markdown",
   "metadata": {},
   "source": [
    "#### Plotting Address State wise mean sanctioned amount for bad/good loans"
   ]
  },
  {
   "cell_type": "code",
   "execution_count": null,
   "metadata": {},
   "outputs": [],
   "source": [
    "plt.figure(figsize=(40,10))\n",
    "\n",
    "plt.subplot(221)\n",
    "plt.title('Address State wise mean sanctioned amount for bad loans')\n",
    "sns.barplot(x='address_state', y='sanctioned_amount', data=bad_loans_df, estimator=np.mean)\n",
    "\n",
    "plt.subplot(223)\n",
    "plt.title('Address State wise mean sanctioned amount for good loans')\n",
    "sns.barplot(x='address_state', y='sanctioned_amount', data=good_loans_df, estimator=np.mean)"
   ]
  },
  {
   "cell_type": "markdown",
   "metadata": {},
   "source": [
    "#### Distribution of sub grades inside Loan grade for bad/good loans"
   ]
  },
  {
   "cell_type": "code",
   "execution_count": null,
   "metadata": {},
   "outputs": [],
   "source": [
    "# bad_loan_tab = pd.crosstab(bad_loans_df.loan_grade, bad_loans_df.loan_sub_grade)\n",
    "# bad_loan_tab.plot.bar(stacked=True, width = 1)\n",
    "# plt.legend(title='loan_sub_grade')\n",
    "plt.figure(figsize=(20,5))\n",
    "\n",
    "plt.subplot(121)\n",
    "bad_loan_tab = pd.crosstab(bad_loans_df.loan_grade, bad_loans_df.loan_sub_grade)\n",
    "stacked = bad_loan_tab.stack().reset_index().rename(columns={0:'value'})\n",
    "plt.title('Distribution of sub grades inside Loan grade for bad loans')\n",
    "sns.barplot(x=stacked.loan_grade, y=stacked.value, hue=stacked.loan_sub_grade)\n",
    "\n",
    "plt.subplot(122)\n",
    "good_loan_tab = pd.crosstab(good_loans_df.loan_grade, good_loans_df.loan_sub_grade)\n",
    "stacked = good_loan_tab.stack().reset_index().rename(columns={0:'value'})\n",
    "plt.title('Distribution of sub grades inside Loan grade for good loans')\n",
    "sns.barplot(x=stacked.loan_grade, y=stacked.value, hue=stacked.loan_sub_grade)\n",
    "\n",
    "plt.show()  "
   ]
  },
  {
   "cell_type": "markdown",
   "metadata": {},
   "source": [
    "#### Plotting Income Category wise mean sanctioned amount for bad/good loans\n",
    "\n",
    "For this we need to derive a new categorical variable called **income_category**"
   ]
  },
  {
   "cell_type": "code",
   "execution_count": null,
   "metadata": {},
   "outputs": [],
   "source": [
    "bins = [0, 60000, 120000, 240000, 480000, 960000, 1920000]\n",
    "labels = [\"A\",\"B\",\"C\",\"D\",\"E\",\"F\"]\n",
    "\n",
    "bad_loans_df['income_category'] = pd.cut(bad_loans_df['annual_income'], bins=bins, labels=labels)\n",
    "good_loans_df['income_category'] = pd.cut(good_loans_df['annual_income'], bins=bins, labels=labels)"
   ]
  },
  {
   "cell_type": "code",
   "execution_count": null,
   "metadata": {},
   "outputs": [],
   "source": [
    "plt.figure(figsize=(20,5))\n",
    "\n",
    "plt.subplot(121)\n",
    "plt.title('income_category wise mean sanctioned amount for bad loans')\n",
    "sns.barplot(x='income_category', y='sanctioned_amount', data=bad_loans_df, estimator=np.mean)\n",
    "\n",
    "plt.subplot(122)\n",
    "plt.title('income category wise mean sanctioned amount for good loans')\n",
    "sns.barplot(x='income_category', y='sanctioned_amount', data=good_loans_df, estimator=np.mean)"
   ]
  },
  {
   "cell_type": "markdown",
   "metadata": {},
   "source": [
    "#### Calculating the percentage of defaulters in each income category"
   ]
  },
  {
   "cell_type": "code",
   "execution_count": null,
   "metadata": {},
   "outputs": [],
   "source": [
    "bad_loan_income_groups = bad_loans_df.groupby('income_category')\n",
    "good_loan_income_groups = good_loans_df.groupby('income_category')\n",
    "bad_loan_income_groups.sanctioned_amount.count()"
   ]
  },
  {
   "cell_type": "code",
   "execution_count": null,
   "metadata": {},
   "outputs": [],
   "source": [
    "good_loan_income_groups.sanctioned_amount.count()"
   ]
  },
  {
   "cell_type": "code",
   "execution_count": null,
   "metadata": {},
   "outputs": [],
   "source": [
    "number_of_defaulters_in_category = np.array(bad_loan_income_groups.sanctioned_amount.count().tolist())\n",
    "\n",
    "number_of_non_defaulters_in_category = np.array(good_loan_income_groups.sanctioned_amount.count().tolist())\n",
    "\n",
    "total_applicants_in_each_category = number_of_defaulters_in_category + number_of_non_defaulters_in_category\n",
    "\n",
    "percentage_defaulters_in_each_categories = np.around((number_of_defaulters_in_category/total_applicants_in_each_category) * 100, decimals=2)\n",
    "print(percentage_defaulters_in_each_categories)\n",
    "\n",
    "inc_categories = np.array(bad_loans_df.income_category.unique().tolist())\n",
    "print(inc_categories)\n",
    "\n",
    "plt.bar(inc_categories, percentage_defaulters_in_each_categories)\n",
    "plt.ylabel('Percentage of Defaulters') \n",
    "plt.xlabel('Income Category')  \n",
    "plt.title('Distribution of Defaulters in all Income Categories') \n"
   ]
  },
  {
   "cell_type": "markdown",
   "metadata": {},
   "source": [
    "1. Defaulter Percentage in income category **A is 16.32%**\n",
    "2. Defaulter Percentage in income category **B is 12.38%**\n",
    "3. Defaulter Percentage in income category **C is 11.16%**\n",
    "4. Defaulter Percentage in income category **D is 8.3%**\n",
    "5. Defaulter Percentage in income category **E is 19.3%**\n",
    "6. Defaulter Percentage in income category **F is 9.09%**"
   ]
  },
  {
   "cell_type": "markdown",
   "metadata": {},
   "source": [
    "#### Plotting DTI wise mean sanctioned amount for bad/good loans\n",
    "\n",
    "For this we need to derive a new categorical variable called **dti_category**"
   ]
  },
  {
   "cell_type": "code",
   "execution_count": null,
   "metadata": {},
   "outputs": [],
   "source": [
    "bins = [0, 10, 20, 29.99]\n",
    "labels = [\"A\",\"B\",\"C\",\"D\",\"E\",\"F\"]\n",
    "\n",
    "bad_loans_df['dti_category'] = pd.cut(bad_loans_df['dti'], bins=6, labels=labels)\n",
    "good_loans_df['dti_category'] = pd.cut(good_loans_df['dti'], bins=6, labels=labels)"
   ]
  },
  {
   "cell_type": "code",
   "execution_count": null,
   "metadata": {},
   "outputs": [],
   "source": [
    "plt.figure(figsize=(20,5))\n",
    "\n",
    "plt.subplot(121)\n",
    "plt.title('dti_category wise mean sanctioned amount for bad loans')\n",
    "sns.barplot(x='income_category', y='sanctioned_amount', data=bad_loans_df, estimator=np.mean)\n",
    "\n",
    "plt.subplot(122)\n",
    "plt.title('dti category wise mean sanctioned amount for good loans')\n",
    "sns.barplot(x='income_category', y='sanctioned_amount', data=good_loans_df, estimator=np.mean)"
   ]
  },
  {
   "cell_type": "markdown",
   "metadata": {},
   "source": [
    "### Bivariate Analysis"
   ]
  },
  {
   "cell_type": "code",
   "execution_count": null,
   "metadata": {},
   "outputs": [],
   "source": [
    "corr = bad_loans_df.corr()\n",
    "corr.style.background_gradient(cmap='coolwarm').set_precision(2)"
   ]
  },
  {
   "cell_type": "code",
   "execution_count": null,
   "metadata": {},
   "outputs": [],
   "source": [
    "corr = good_loans_df.corr()\n",
    "corr.style.background_gradient(cmap='coolwarm').set_precision(2)"
   ]
  }
 ],
 "metadata": {
  "kernelspec": {
   "display_name": "Python 3",
   "language": "python",
   "name": "python3"
  },
  "language_info": {
   "codemirror_mode": {
    "name": "ipython",
    "version": 3
   },
   "file_extension": ".py",
   "mimetype": "text/x-python",
   "name": "python",
   "nbconvert_exporter": "python",
   "pygments_lexer": "ipython3",
   "version": "3.7.4"
  }
 },
 "nbformat": 4,
 "nbformat_minor": 2
}
